{
 "cells": [
  {
   "cell_type": "code",
   "execution_count": 2,
   "id": "2e6a036d",
   "metadata": {
    "scrolled": true
   },
   "outputs": [
    {
     "name": "stdout",
     "output_type": "stream",
     "text": [
      "Requirement already satisfied: pandas in /opt/anaconda3/lib/python3.9/site-packages (1.3.4)\n",
      "Requirement already satisfied: python-dateutil>=2.7.3 in /opt/anaconda3/lib/python3.9/site-packages (from pandas) (2.8.2)\n",
      "Requirement already satisfied: pytz>=2017.3 in /opt/anaconda3/lib/python3.9/site-packages (from pandas) (2021.3)\n",
      "Requirement already satisfied: numpy>=1.17.3 in /opt/anaconda3/lib/python3.9/site-packages (from pandas) (1.22.4)\n",
      "Requirement already satisfied: six>=1.5 in /opt/anaconda3/lib/python3.9/site-packages (from python-dateutil>=2.7.3->pandas) (1.16.0)\n",
      "Requirement already satisfied: scikit-learn==1.6.1 in /opt/anaconda3/lib/python3.9/site-packages (1.6.1)\n",
      "Requirement already satisfied: joblib>=1.2.0 in /opt/anaconda3/lib/python3.9/site-packages (from scikit-learn==1.6.1) (1.5.1)\n",
      "Requirement already satisfied: scipy>=1.6.0 in /opt/anaconda3/lib/python3.9/site-packages (from scikit-learn==1.6.1) (1.7.1)\n",
      "Requirement already satisfied: threadpoolctl>=3.1.0 in /opt/anaconda3/lib/python3.9/site-packages (from scikit-learn==1.6.1) (3.6.0)\n",
      "Requirement already satisfied: numpy>=1.19.5 in /opt/anaconda3/lib/python3.9/site-packages (from scikit-learn==1.6.1) (1.22.4)\n",
      "Requirement already satisfied: torch in /opt/anaconda3/lib/python3.9/site-packages (2.2.2)\n",
      "Requirement already satisfied: typing-extensions>=4.8.0 in /opt/anaconda3/lib/python3.9/site-packages (from torch) (4.14.0)\n",
      "Requirement already satisfied: fsspec in /opt/anaconda3/lib/python3.9/site-packages (from torch) (2025.3.0)\n",
      "Requirement already satisfied: filelock in /opt/anaconda3/lib/python3.9/site-packages (from torch) (3.3.1)\n",
      "Requirement already satisfied: networkx in /opt/anaconda3/lib/python3.9/site-packages (from torch) (2.6.3)\n",
      "Requirement already satisfied: jinja2 in /opt/anaconda3/lib/python3.9/site-packages (from torch) (2.11.3)\n",
      "Requirement already satisfied: sympy in /opt/anaconda3/lib/python3.9/site-packages (from torch) (1.9)\n",
      "Requirement already satisfied: MarkupSafe>=0.23 in /opt/anaconda3/lib/python3.9/site-packages (from jinja2->torch) (1.1.1)\n",
      "Requirement already satisfied: mpmath>=0.19 in /opt/anaconda3/lib/python3.9/site-packages (from sympy->torch) (1.2.1)\n"
     ]
    }
   ],
   "source": [
    "!pip install pandas \n",
    "!pip install scikit-learn==1.6.1\n",
    "!pip install torch\n"
   ]
  },
  {
   "cell_type": "code",
   "execution_count": 3,
   "id": "3ad245f9",
   "metadata": {},
   "outputs": [],
   "source": [
    "import os \n",
    "import numpy as np\n",
    "import pandas as pd\n",
    "import torch\n",
    "import torch.nn as nn\n",
    "from sklearn.feature_extraction.text import TfidfVectorizer\n",
    "from sklearn.model_selection import train_test_split\n",
    "from sklearn.preprocessing import LabelEncoder\n",
    "from sklearn.utils.class_weight import compute_class_weight\n",
    "import statistics\n"
   ]
  },
  {
   "cell_type": "code",
   "execution_count": 4,
   "id": "c7254938",
   "metadata": {},
   "outputs": [
    {
     "name": "stdout",
     "output_type": "stream",
     "text": [
      "current directory: /Users/hayleyluo/Desktop/Github/ML-kaggle-projects/kaggle-ski-area-review\n"
     ]
    }
   ],
   "source": [
    "# Get the current directory\n",
    "current_directory = os.getcwd()\n",
    "print(f\"current directory: {current_directory}\")"
   ]
  },
  {
   "cell_type": "markdown",
   "id": "f056f721",
   "metadata": {},
   "source": [
    "## Experiment #1 Use true label to train the model"
   ]
  },
  {
   "cell_type": "code",
   "execution_count": 6,
   "id": "69a0dd09",
   "metadata": {},
   "outputs": [
    {
     "name": "stdout",
     "output_type": "stream",
     "text": [
      "read dataset from /Users/hayleyluo/Desktop/Github/ML-kaggle-projects/kaggle-ski-area-review/datasets/bronze/on_the_snow_ski_area_reviews.csv\n",
      "<class 'pandas.core.frame.DataFrame'>\n",
      "Float64Index: 18374 entries, 0.0 to 18261.0\n",
      "Data columns (total 7 columns):\n",
      " #   Column                         Non-Null Count  Dtype  \n",
      "---  ------                         --------------  -----  \n",
      " 0   State                          18374 non-null  object \n",
      " 1   Ski Area                       18372 non-null  object \n",
      " 2   Reviewer Name                  18250 non-null  object \n",
      " 3   Review Star Rating (out of 5)  18250 non-null  float64\n",
      " 4   Review Text                    18250 non-null  object \n",
      " 5   Review Date datetime           18126 non-null  object \n",
      " 6   Review Text Cleaned            18077 non-null  object \n",
      "dtypes: float64(1), object(6)\n",
      "memory usage: 1.1+ MB\n"
     ]
    }
   ],
   "source": [
    "# import the dataset\n",
    "file_path = f'{current_directory}/datasets/bronze/on_the_snow_ski_area_reviews.csv'\n",
    "df = pd.read_csv(file_path, header=0,index_col=0)\n",
    "print(f\"read dataset from {file_path}\")                 \n",
    "df.info()"
   ]
  },
  {
   "cell_type": "code",
   "execution_count": 7,
   "id": "e7f0578f",
   "metadata": {},
   "outputs": [
    {
     "name": "stdout",
     "output_type": "stream",
     "text": [
      "Vocabulary size: 5000\n",
      "TF-IDF matrix shape: (18374, 5000)\n",
      "vectorizer.get_feature_names_out(): ['00' '000' '00am' ... 'zones' 'zoo' 'zooming']\n"
     ]
    }
   ],
   "source": [
    "# Preprocess labels\n",
    "# TF-IDF vectorization\n",
    "vectorizer = TfidfVectorizer(max_features=5000, stop_words='english')\n",
    "X = vectorizer.fit_transform(df[\"Review Text\"].fillna(\"\").tolist()).toarray()\n",
    "df[\"Review Star Rating\"] = df[\"Review Star Rating (out of 5)\"]-1\n",
    "\n",
    "print(\"Vocabulary size:\", len(vectorizer.vocabulary_))\n",
    "print(\"TF-IDF matrix shape:\", X.shape)\n",
    "print(\"vectorizer.get_feature_names_out():\", vectorizer.get_feature_names_out())\n"
   ]
  },
  {
   "cell_type": "code",
   "execution_count": 8,
   "id": "a1537301",
   "metadata": {},
   "outputs": [
    {
     "name": "stdout",
     "output_type": "stream",
     "text": [
      "5.0    8636\n",
      "4.0    4648\n",
      "3.0    1938\n",
      "1.0    1657\n",
      "2.0    1371\n",
      "Name: Review Star Rating (out of 5), dtype: int64\n"
     ]
    }
   ],
   "source": [
    "# class inbalance\n",
    "print(df['Review Star Rating (out of 5)'].value_counts())"
   ]
  },
  {
   "cell_type": "code",
   "execution_count": 9,
   "id": "7dcd9c8e",
   "metadata": {},
   "outputs": [
    {
     "ename": "NameError",
     "evalue": "name 'y' is not defined",
     "output_type": "error",
     "traceback": [
      "\u001b[0;31m---------------------------------------------------------------------------\u001b[0m",
      "\u001b[0;31mNameError\u001b[0m                                 Traceback (most recent call last)",
      "\u001b[0;32m/var/folders/_4/11_4fws543sg4rz6h3bp17_m0000gn/T/ipykernel_31375/1814933829.py\u001b[0m in \u001b[0;36m<module>\u001b[0;34m\u001b[0m\n\u001b[1;32m      1\u001b[0m \u001b[0;31m# Train-test split\u001b[0m\u001b[0;34m\u001b[0m\u001b[0;34m\u001b[0m\u001b[0m\n\u001b[0;32m----> 2\u001b[0;31m \u001b[0mX_train\u001b[0m\u001b[0;34m,\u001b[0m \u001b[0mX_val\u001b[0m\u001b[0;34m,\u001b[0m \u001b[0my_train\u001b[0m\u001b[0;34m,\u001b[0m \u001b[0my_val\u001b[0m \u001b[0;34m=\u001b[0m \u001b[0mtrain_test_split\u001b[0m\u001b[0;34m(\u001b[0m\u001b[0mX\u001b[0m\u001b[0;34m,\u001b[0m \u001b[0my\u001b[0m\u001b[0;34m,\u001b[0m \u001b[0mtest_size\u001b[0m\u001b[0;34m=\u001b[0m\u001b[0;36m0.2\u001b[0m\u001b[0;34m,\u001b[0m \u001b[0mrandom_state\u001b[0m\u001b[0;34m=\u001b[0m\u001b[0;36m42\u001b[0m\u001b[0;34m)\u001b[0m\u001b[0;34m\u001b[0m\u001b[0;34m\u001b[0m\u001b[0m\n\u001b[0m\u001b[1;32m      3\u001b[0m \u001b[0;34m\u001b[0m\u001b[0m\n\u001b[1;32m      4\u001b[0m \u001b[0;31m# Convert to PyTorch tensors\u001b[0m\u001b[0;34m\u001b[0m\u001b[0;34m\u001b[0m\u001b[0m\n\u001b[1;32m      5\u001b[0m \u001b[0mX_train\u001b[0m \u001b[0;34m=\u001b[0m \u001b[0mtorch\u001b[0m\u001b[0;34m.\u001b[0m\u001b[0mtensor\u001b[0m\u001b[0;34m(\u001b[0m\u001b[0mX_train\u001b[0m\u001b[0;34m,\u001b[0m \u001b[0mdtype\u001b[0m\u001b[0;34m=\u001b[0m\u001b[0mtorch\u001b[0m\u001b[0;34m.\u001b[0m\u001b[0mfloat32\u001b[0m\u001b[0;34m)\u001b[0m\u001b[0;34m\u001b[0m\u001b[0;34m\u001b[0m\u001b[0m\n",
      "\u001b[0;31mNameError\u001b[0m: name 'y' is not defined"
     ]
    }
   ],
   "source": [
    "# Train-test split\n",
    "X_train, X_val, y_train, y_val = train_test_split(X, y, test_size=0.2, random_state=42)\n",
    "\n",
    "# Convert to PyTorch tensors\n",
    "X_train = torch.tensor(X_train, dtype=torch.float32)\n",
    "y_train = torch.tensor(y_train, dtype=torch.long)\n",
    "X_val = torch.tensor(X_val, dtype=torch.float32)\n",
    "y_val = torch.tensor(y_val, dtype=torch.long)\n",
    "\n",
    "class_weights = compute_class_weight(class_weight='balanced', classes=np.array([0, 1]), y=y)\n",
    "weights = torch.tensor(class_weights, dtype=torch.float32)\n",
    "criterion = nn.CrossEntropyLoss(weight=weights)\n",
    "\n",
    "# Define MLP model: defining a custom PyTorch neural network class\n",
    "class SentimentClassifier(nn.Module):\n",
    "    def __init__(self, input_dim):\n",
    "        \"\"\"\n",
    "        Arg:\n",
    "        input_dim: the number of features, extracted via TF-IDF vectorizer\n",
    "        \"\"\"\n",
    "        \n",
    "        # calls the constructor of the parent nn.Module.\n",
    "        super(SentimentClassifier, self).__init__()\n",
    "        \n",
    "        #build the neural network layers\n",
    "        self.net = nn.Sequential(\n",
    "            nn.Linear(input_dim, 512),\n",
    "            nn.ReLU(),\n",
    "            nn.Dropout(0.3),\n",
    "            nn.Linear(512, 128),\n",
    "            nn.ReLU(),\n",
    "            nn.Dropout(0.2),\n",
    "            nn.Linear(128, 5)  # 5 classes: positive & negative\n",
    "        )\n",
    "\n",
    "    def forward(self, x):\n",
    "        return self.net(x)\n",
    "\n",
    "# Initialize model\n",
    "model = SentimentClassifier(input_dim=X_train.shape[1])\n",
    "criterion = nn.CrossEntropyLoss()\n",
    "optimizer = torch.optim.Adam(model.parameters(), lr=1e-3)\n",
    "\n",
    "# Training loop\n",
    "epochs = 5\n",
    "val_losses = []\n",
    "train_losses = []\n",
    "for epoch in range(epochs):\n",
    "    step_loss = []\n",
    "    # train the model with each epoch\n",
    "    model.train()\n",
    "    # Clear the gradients\n",
    "    optimizer.zero_grad()\n",
    "    # predict train set\n",
    "    train_outputs = model(X_train)\n",
    "    # calculate train loss \n",
    "    train_loss = criterion(train_outputs, y_train)\n",
    "    step_loss.append(train_loss.item())\n",
    "    # append the updated train loss every step\n",
    "    train_losses.append(np.array(step_loss).mean())\n",
    "    # Calculate gradients\n",
    "    train_loss.backward()\n",
    "    # Update Weights\n",
    "    optimizer.step()\n",
    "\n",
    "    # Validation\n",
    "    model.eval()\n",
    "    \n",
    "    # disables gradient calculation\n",
    "    with torch.no_grad():\n",
    "         # predict X validation set\n",
    "        val_outputs = model(X_val)\n",
    "        # label validation prediction output based on the highest probability \n",
    "        val_preds = torch.argmax(val_outputs, dim=1)\n",
    "        # calculate validation loss \n",
    "        val_loss = criterion(val_outputs, y_val)\n",
    "        val_losses.append(val_loss.item())\n",
    "        accuracy = (val_preds == y_val).float().mean()\n",
    "    print(f\"Epoch {epoch+1}/{epochs} - Loss: {loss.item():.4f} - Val Accuracy: {accuracy:.4f}\")"
   ]
  },
  {
   "cell_type": "code",
   "execution_count": 53,
   "id": "0d5021fc",
   "metadata": {},
   "outputs": [
    {
     "data": {
      "text/plain": [
       "<function matplotlib.pyplot.show(close=None, block=None)>"
      ]
     },
     "execution_count": 53,
     "metadata": {},
     "output_type": "execute_result"
    },
    {
     "data": {
      "image/png": "[encoded data removed]",
      "text/plain": [
       "<Figure size 432x288 with 1 Axes>"
      ]
     },
     "metadata": {
      "needs_background": "light"
     },
     "output_type": "display_data"
    }
   ],
   "source": [
    "from matplotlib import pyplot as plt\n",
    "plt.plot(train_losses, label='train_loss')\n",
    "plt.plot(val_losses,label='val_loss')\n",
    "plt.legend()\n",
    "plt.show"
   ]
  },
  {
   "cell_type": "markdown",
   "id": "961f60ce",
   "metadata": {},
   "source": [
    "## Experiment #2 Use hugging face label to train the model"
   ]
  },
  {
   "cell_type": "code",
   "execution_count": 40,
   "id": "c5b54850",
   "metadata": {},
   "outputs": [
    {
     "name": "stdout",
     "output_type": "stream",
     "text": [
      "<class 'pandas.core.frame.DataFrame'>\n",
      "RangeIndex: 18250 entries, 0 to 18249\n",
      "Data columns (total 13 columns):\n",
      " #   Column                         Non-Null Count  Dtype  \n",
      "---  ------                         --------------  -----  \n",
      " 0   Unnamed: 0                     18250 non-null  int64  \n",
      " 1   Unnamed: 0.1                   18250 non-null  float64\n",
      " 2   State                          18250 non-null  object \n",
      " 3   Ski Area                       18250 non-null  object \n",
      " 4   Reviewer Name                  18250 non-null  object \n",
      " 5   Review Date                    18250 non-null  object \n",
      " 6   Review Star Rating (out of 5)  18250 non-null  float64\n",
      " 7   Review Text                    18250 non-null  object \n",
      " 8   Review Missing                 18126 non-null  float64\n",
      " 9   Review Date datetime           18126 non-null  object \n",
      " 10  label                          18250 non-null  object \n",
      " 11  score                          18250 non-null  float64\n",
      " 12  verdict                        18250 non-null  object \n",
      "dtypes: float64(4), int64(1), object(8)\n",
      "memory usage: 1.8+ MB\n"
     ]
    }
   ],
   "source": [
    "# import the dataset\n",
    "file = f\"{current_directory}/results/hugging_face_results.csv\"\n",
    "df = pd.read_csv(file, header=0)\n",
    "df.info()"
   ]
  },
  {
   "cell_type": "code",
   "execution_count": 41,
   "id": "dad1d10d",
   "metadata": {},
   "outputs": [
    {
     "name": "stdout",
     "output_type": "stream",
     "text": [
      "Vocabulary size: 5000\n",
      "TF-IDF matrix shape: (18250, 5000)\n",
      "vectorizer.get_feature_names_out(): ['00' '000' '00am' ... 'zones' 'zoo' 'zooming']\n"
     ]
    }
   ],
   "source": [
    "# Preprocess labels\n",
    "# TF-IDF vectorization\n",
    "vectorizer = TfidfVectorizer(max_features=5000, stop_words='english')\n",
    "X = vectorizer.fit_transform(df[\"Review Text\"].fillna(\"\").tolist()).toarray()\n",
    "\n",
    "# Preprocess labels\n",
    "le = LabelEncoder()\n",
    "df[\"label_encoded\"] = le.fit_transform(df[\"label\"])  # e.g., 'positive' -> 1, 'negative' -> 0\n",
    "y = df[\"label_encoded\"].values\n",
    "\n",
    "print(\"Vocabulary size:\", len(vectorizer.vocabulary_))\n",
    "print(\"TF-IDF matrix shape:\", X.shape)\n",
    "print(\"vectorizer.get_feature_names_out():\", vectorizer.get_feature_names_out())\n"
   ]
  },
  {
   "cell_type": "code",
   "execution_count": 64,
   "id": "a1214f01",
   "metadata": {},
   "outputs": [
    {
     "name": "stdout",
     "output_type": "stream",
     "text": [
      "Epoch 1/20 - Loss: 1.5595 - Val Accuracy: 0.7003\n",
      "Epoch 2/20 - Loss: 1.5595 - Val Accuracy: 0.7301\n",
      "Epoch 3/20 - Loss: 1.5595 - Val Accuracy: 0.8099\n",
      "Epoch 4/20 - Loss: 1.5595 - Val Accuracy: 0.7868\n",
      "Epoch 5/20 - Loss: 1.5595 - Val Accuracy: 0.7781\n",
      "Epoch 6/20 - Loss: 1.5595 - Val Accuracy: 0.7819\n",
      "Epoch 7/20 - Loss: 1.5595 - Val Accuracy: 0.7877\n",
      "Epoch 8/20 - Loss: 1.5595 - Val Accuracy: 0.7934\n",
      "Epoch 9/20 - Loss: 1.5595 - Val Accuracy: 0.8000\n",
      "Epoch 10/20 - Loss: 1.5595 - Val Accuracy: 0.8025\n",
      "Epoch 11/20 - Loss: 1.5595 - Val Accuracy: 0.8016\n",
      "Epoch 12/20 - Loss: 1.5595 - Val Accuracy: 0.8008\n",
      "Epoch 13/20 - Loss: 1.5595 - Val Accuracy: 0.8008\n",
      "Epoch 14/20 - Loss: 1.5595 - Val Accuracy: 0.8011\n",
      "Epoch 15/20 - Loss: 1.5595 - Val Accuracy: 0.8027\n",
      "Epoch 16/20 - Loss: 1.5595 - Val Accuracy: 0.8055\n",
      "Epoch 17/20 - Loss: 1.5595 - Val Accuracy: 0.8093\n",
      "Epoch 18/20 - Loss: 1.5595 - Val Accuracy: 0.8164\n",
      "Epoch 19/20 - Loss: 1.5595 - Val Accuracy: 0.8181\n",
      "Epoch 20/20 - Loss: 1.5595 - Val Accuracy: 0.8211\n"
     ]
    }
   ],
   "source": [
    "# Train-test split\n",
    "X_train, X_val, y_train, y_val = train_test_split(X, y, test_size=0.2, random_state=42)\n",
    "\n",
    "# Convert to PyTorch tensors\n",
    "X_train = torch.tensor(X_train, dtype=torch.float32)\n",
    "y_train = torch.tensor(y_train, dtype=torch.long)\n",
    "X_val = torch.tensor(X_val, dtype=torch.float32)\n",
    "y_val = torch.tensor(y_val, dtype=torch.long)\n",
    "\n",
    "# Define MLP model\n",
    "class SentimentClassifier(nn.Module):\n",
    "    def __init__(self, input_dim):\n",
    "        super(SentimentClassifier, self).__init__()\n",
    "        self.net = nn.Sequential(\n",
    "            nn.Linear(input_dim, 512),\n",
    "            nn.ReLU(),\n",
    "            nn.Dropout(0.3),\n",
    "            nn.Linear(512, 128),\n",
    "            nn.ReLU(),\n",
    "            nn.Dropout(0.2),\n",
    "            nn.Linear(128, 2)  # Binary classification\n",
    "        )\n",
    "\n",
    "    def forward(self, x):\n",
    "        return self.net(x)\n",
    "\n",
    "# Initialize model\n",
    "model = SentimentClassifier(input_dim=X_train.shape[1])\n",
    "criterion = nn.CrossEntropyLoss()\n",
    "optimizer = torch.optim.Adam(model.parameters(), lr=1e-3)\n",
    "\n",
    "# Training loop\n",
    "epochs = 20\n",
    "val_losses = []\n",
    "train_losses = []\n",
    "class_weights = compute_class_weight(class_weight='balanced', classes=np.array([0, 1]), y=y)\n",
    "weights = torch.tensor(class_weights, dtype=torch.float32)\n",
    "criterion = nn.CrossEntropyLoss(weight=weights)\n",
    "\n",
    "for epoch in range(epochs):\n",
    "    step_loss = []\n",
    "    # train the model with each epoch\n",
    "    model.train()\n",
    "    # Clear the gradients\n",
    "    optimizer.zero_grad()\n",
    "    # predict train set\n",
    "    train_outputs = model(X_train)\n",
    "    # calculate train loss \n",
    "    train_loss = criterion(train_outputs, y_train)\n",
    "    step_loss.append(train_loss.item())\n",
    "    # append the updated train loss every step\n",
    "    train_losses.append(np.array(step_loss).mean())\n",
    "    # Calculate gradients\n",
    "    train_loss.backward()\n",
    "    # Update Weights\n",
    "    optimizer.step()\n",
    "\n",
    "    # Validation\n",
    "    model.eval()\n",
    "    \n",
    "    # disables gradient calculation\n",
    "    with torch.no_grad():\n",
    "         # predict X validation set\n",
    "        val_outputs = model(X_val)\n",
    "        # label validation prediction output based on the highest probability \n",
    "        val_preds = torch.argmax(val_outputs, dim=1)\n",
    "        # calculate validation loss \n",
    "        val_loss = criterion(val_outputs, y_val)\n",
    "        val_losses.append(val_loss.item())\n",
    "        accuracy = (val_preds == y_val).float().mean()\n",
    "    print(f\"Epoch {epoch+1}/{epochs} - Loss: {loss.item():.4f} - Val Accuracy: {accuracy:.4f}\")"
   ]
  },
  {
   "cell_type": "code",
   "execution_count": 65,
   "id": "7de7f252",
   "metadata": {},
   "outputs": [
    {
     "data": {
      "text/plain": [
       "<function matplotlib.pyplot.show(close=None, block=None)>"
      ]
     },
     "execution_count": 65,
     "metadata": {},
     "output_type": "execute_result"
    },
    {
     "data": {
      "image/png": "[encoded data removed]",
      "text/plain": [
       "<Figure size 432x288 with 1 Axes>"
      ]
     },
     "metadata": {
      "needs_background": "light"
     },
     "output_type": "display_data"
    }
   ],
   "source": [
    "from matplotlib import pyplot as plt\n",
    "plt.plot(train_losses, label='train_loss')\n",
    "plt.plot(val_losses,label='val_loss')\n",
    "plt.legend()\n",
    "plt.show"
   ]
  },
  {
   "cell_type": "code",
   "execution_count": 66,
   "id": "88f30454",
   "metadata": {},
   "outputs": [
    {
     "name": "stdout",
     "output_type": "stream",
     "text": [
      "POSITIVE    12728\n",
      "NEGATIVE     5522\n",
      "Name: label, dtype: int64\n"
     ]
    }
   ],
   "source": [
    "print(df['label'].value_counts())"
   ]
  },
  {
   "cell_type": "code",
   "execution_count": null,
   "id": "e3bea06a",
   "metadata": {},
   "outputs": [],
   "source": []
  }
 ],
 "metadata": {
  "kernelspec": {
   "display_name": "skireview",
   "language": "python",
   "name": "skireview"
  },
  "language_info": {
   "codemirror_mode": {
    "name": "ipython",
    "version": 3
   },
   "file_extension": ".py",
   "mimetype": "text/x-python",
   "name": "python",
   "nbconvert_exporter": "python",
   "pygments_lexer": "ipython3",
   "version": "3.9.7"
  }
 },
 "nbformat": 4,
 "nbformat_minor": 5
}
