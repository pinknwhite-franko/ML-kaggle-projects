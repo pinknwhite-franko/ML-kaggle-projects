{
 "cells": [
  {
   "cell_type": "code",
   "execution_count": null,
   "id": "5a2e585a",
   "metadata": {},
   "outputs": [
    {
     "name": "stdout",
     "output_type": "stream",
     "text": [
      "Requirement already satisfied: pandas in /opt/anaconda3/lib/python3.9/site-packages (1.3.4)\n",
      "Requirement already satisfied: python-dateutil>=2.7.3 in /opt/anaconda3/lib/python3.9/site-packages (from pandas) (2.8.2)\n",
      "Requirement already satisfied: pytz>=2017.3 in /opt/anaconda3/lib/python3.9/site-packages (from pandas) (2021.3)\n",
      "Requirement already satisfied: numpy>=1.17.3 in /opt/anaconda3/lib/python3.9/site-packages (from pandas) (1.22.4)\n",
      "Requirement already satisfied: six>=1.5 in /opt/anaconda3/lib/python3.9/site-packages (from python-dateutil>=2.7.3->pandas) (1.16.0)\n"
     ]
    }
   ],
   "source": [
    "!pip install pandas"
   ]
  },
  {
   "cell_type": "code",
   "execution_count": 89,
   "id": "0d587686",
   "metadata": {},
   "outputs": [
    {
     "name": "stderr",
     "output_type": "stream",
     "text": [
      "[nltk_data] Downloading package stopwords to\n",
      "[nltk_data]     /Users/hayleyluo/nltk_data...\n",
      "[nltk_data]   Package stopwords is already up-to-date!\n",
      "[nltk_data] Downloading package punkt to /Users/hayleyluo/nltk_data...\n",
      "[nltk_data]   Package punkt is already up-to-date!\n",
      "[nltk_data] Downloading package wordnet to\n",
      "[nltk_data]     /Users/hayleyluo/nltk_data...\n",
      "[nltk_data]   Package wordnet is already up-to-date!\n",
      "[nltk_data] Downloading package punkt_tab to\n",
      "[nltk_data]     /Users/hayleyluo/nltk_data...\n",
      "[nltk_data]   Package punkt_tab is already up-to-date!\n"
     ]
    },
    {
     "data": {
      "text/plain": [
       "True"
      ]
     },
     "execution_count": 89,
     "metadata": {},
     "output_type": "execute_result"
    }
   ],
   "source": [
    "import os \n",
    "import pandas as pd\n",
    "import numpy as np\n",
    "from datetime import datetime\n",
    "import re\n",
    "import nltk\n",
    "from nltk.corpus import stopwords\n",
    "from nltk.tokenize import word_tokenize\n",
    "from nltk.stem import WordNetLemmatizer\n",
    "nltk.download('stopwords')\n",
    "nltk.download('punkt')\n",
    "nltk.download('wordnet')\n",
    "nltk.download('punkt_tab')\n"
   ]
  },
  {
   "cell_type": "code",
   "execution_count": 90,
   "id": "de2f9272",
   "metadata": {},
   "outputs": [
    {
     "name": "stdout",
     "output_type": "stream",
     "text": [
      "current directory: /Users/hayleyluo/Desktop/Github/ML-kaggle-projects/kaggle-ski-area-review\n"
     ]
    }
   ],
   "source": [
    "# Get the current directory\n",
    "current_directory = os.getcwd()\n",
    "\n",
    "print(f\"current directory: {current_directory}\")"
   ]
  },
  {
   "cell_type": "code",
   "execution_count": 91,
   "id": "649e8e3a",
   "metadata": {},
   "outputs": [
    {
     "data": {
      "text/html": [
       "<div>\n",
       "<style scoped>\n",
       "    .dataframe tbody tr th:only-of-type {\n",
       "        vertical-align: middle;\n",
       "    }\n",
       "\n",
       "    .dataframe tbody tr th {\n",
       "        vertical-align: top;\n",
       "    }\n",
       "\n",
       "    .dataframe thead th {\n",
       "        text-align: right;\n",
       "    }\n",
       "</style>\n",
       "<table border=\"1\" class=\"dataframe\">\n",
       "  <thead>\n",
       "    <tr style=\"text-align: right;\">\n",
       "      <th></th>\n",
       "      <th>Unnamed: 0</th>\n",
       "      <th>State</th>\n",
       "      <th>Ski Area</th>\n",
       "      <th>Reviewer Name</th>\n",
       "      <th>Review Date</th>\n",
       "      <th>Review Star Rating (out of 5)</th>\n",
       "      <th>Review Text</th>\n",
       "    </tr>\n",
       "  </thead>\n",
       "  <tbody>\n",
       "    <tr>\n",
       "      <th>0</th>\n",
       "      <td>0</td>\n",
       "      <td>california</td>\n",
       "      <td>squaw-valley-usa</td>\n",
       "      <td>philip sayles</td>\n",
       "      <td>31st December 2019</td>\n",
       "      <td>3</td>\n",
       "      <td>I'm glad our family experienced Squaw but I wo...</td>\n",
       "    </tr>\n",
       "    <tr>\n",
       "      <th>1</th>\n",
       "      <td>1</td>\n",
       "      <td>california</td>\n",
       "      <td>squaw-valley-usa</td>\n",
       "      <td>mateonelson</td>\n",
       "      <td>22nd May 2019</td>\n",
       "      <td>4</td>\n",
       "      <td>I went skiing today 5/22, granite chief was am...</td>\n",
       "    </tr>\n",
       "    <tr>\n",
       "      <th>2</th>\n",
       "      <td>2</td>\n",
       "      <td>california</td>\n",
       "      <td>squaw-valley-usa</td>\n",
       "      <td>NaN</td>\n",
       "      <td>7th March 2019</td>\n",
       "      <td>2</td>\n",
       "      <td>We had a horrible experience on our family ski...</td>\n",
       "    </tr>\n",
       "    <tr>\n",
       "      <th>3</th>\n",
       "      <td>3</td>\n",
       "      <td>california</td>\n",
       "      <td>squaw-valley-usa</td>\n",
       "      <td>Ivan Cazares</td>\n",
       "      <td>5th March 2019</td>\n",
       "      <td>3</td>\n",
       "      <td>This is the first year I ski Squaw. I've been ...</td>\n",
       "    </tr>\n",
       "    <tr>\n",
       "      <th>4</th>\n",
       "      <td>4</td>\n",
       "      <td>california</td>\n",
       "      <td>squaw-valley-usa</td>\n",
       "      <td>welzbob</td>\n",
       "      <td>26th February 2019</td>\n",
       "      <td>3</td>\n",
       "      <td>Both Squaw and Alpine have incredible terrain,...</td>\n",
       "    </tr>\n",
       "    <tr>\n",
       "      <th>...</th>\n",
       "      <td>...</td>\n",
       "      <td>...</td>\n",
       "      <td>...</td>\n",
       "      <td>...</td>\n",
       "      <td>...</td>\n",
       "      <td>...</td>\n",
       "      <td>...</td>\n",
       "    </tr>\n",
       "    <tr>\n",
       "      <th>18257</th>\n",
       "      <td>18257</td>\n",
       "      <td>new-hampshire</td>\n",
       "      <td>whaleback-mountain</td>\n",
       "      <td>Matthijs</td>\n",
       "      <td>18th March 2017</td>\n",
       "      <td>1</td>\n",
       "      <td>Looks like they only made snow on one trail. Y...</td>\n",
       "    </tr>\n",
       "    <tr>\n",
       "      <th>18258</th>\n",
       "      <td>18258</td>\n",
       "      <td>new-hampshire</td>\n",
       "      <td>whaleback-mountain</td>\n",
       "      <td>Dolly</td>\n",
       "      <td>25th February 2017</td>\n",
       "      <td>3</td>\n",
       "      <td>Looks cute from highway........ but not enough...</td>\n",
       "    </tr>\n",
       "    <tr>\n",
       "      <th>18259</th>\n",
       "      <td>18259</td>\n",
       "      <td>new-hampshire</td>\n",
       "      <td>whaleback-mountain</td>\n",
       "      <td>Roger</td>\n",
       "      <td>11th February 2017</td>\n",
       "      <td>3</td>\n",
       "      <td>Place has incredible potential. Could be best ...</td>\n",
       "    </tr>\n",
       "    <tr>\n",
       "      <th>18260</th>\n",
       "      <td>18260</td>\n",
       "      <td>new-hampshire</td>\n",
       "      <td>whaleback-mountain</td>\n",
       "      <td>Arthur</td>\n",
       "      <td>10th February 2017</td>\n",
       "      <td>2</td>\n",
       "      <td>Great exposure from interstate......... but lo...</td>\n",
       "    </tr>\n",
       "    <tr>\n",
       "      <th>18261</th>\n",
       "      <td>18261</td>\n",
       "      <td>new-hampshire</td>\n",
       "      <td>whaleback-mountain</td>\n",
       "      <td>David  Cook</td>\n",
       "      <td>4th February 2017</td>\n",
       "      <td>2</td>\n",
       "      <td>My dad and I visited on a whim on our way back...</td>\n",
       "    </tr>\n",
       "  </tbody>\n",
       "</table>\n",
       "<p>18262 rows × 7 columns</p>\n",
       "</div>"
      ],
      "text/plain": [
       "       Unnamed: 0          State            Ski Area  Reviewer Name  \\\n",
       "0               0     california    squaw-valley-usa  philip sayles   \n",
       "1               1     california    squaw-valley-usa    mateonelson   \n",
       "2               2     california    squaw-valley-usa            NaN   \n",
       "3               3     california    squaw-valley-usa   Ivan Cazares   \n",
       "4               4     california    squaw-valley-usa        welzbob   \n",
       "...           ...            ...                 ...            ...   \n",
       "18257       18257  new-hampshire  whaleback-mountain       Matthijs   \n",
       "18258       18258  new-hampshire  whaleback-mountain          Dolly   \n",
       "18259       18259  new-hampshire  whaleback-mountain          Roger   \n",
       "18260       18260  new-hampshire  whaleback-mountain         Arthur   \n",
       "18261       18261  new-hampshire  whaleback-mountain    David  Cook   \n",
       "\n",
       "              Review Date  Review Star Rating (out of 5)  \\\n",
       "0      31st December 2019                              3   \n",
       "1           22nd May 2019                              4   \n",
       "2          7th March 2019                              2   \n",
       "3          5th March 2019                              3   \n",
       "4      26th February 2019                              3   \n",
       "...                   ...                            ...   \n",
       "18257     18th March 2017                              1   \n",
       "18258  25th February 2017                              3   \n",
       "18259  11th February 2017                              3   \n",
       "18260  10th February 2017                              2   \n",
       "18261   4th February 2017                              2   \n",
       "\n",
       "                                             Review Text  \n",
       "0      I'm glad our family experienced Squaw but I wo...  \n",
       "1      I went skiing today 5/22, granite chief was am...  \n",
       "2      We had a horrible experience on our family ski...  \n",
       "3      This is the first year I ski Squaw. I've been ...  \n",
       "4      Both Squaw and Alpine have incredible terrain,...  \n",
       "...                                                  ...  \n",
       "18257  Looks like they only made snow on one trail. Y...  \n",
       "18258  Looks cute from highway........ but not enough...  \n",
       "18259  Place has incredible potential. Could be best ...  \n",
       "18260  Great exposure from interstate......... but lo...  \n",
       "18261  My dad and I visited on a whim on our way back...  \n",
       "\n",
       "[18262 rows x 7 columns]"
      ]
     },
     "execution_count": 91,
     "metadata": {},
     "output_type": "execute_result"
    }
   ],
   "source": [
    "file = f\"{current_directory}/datasets/raw/OnTheSnow_SkiAreaReviews.csv\"\n",
    "df = pd.read_csv(file, header=0)\n",
    "df"
   ]
  },
  {
   "cell_type": "code",
   "execution_count": 92,
   "id": "9dfd35ad",
   "metadata": {},
   "outputs": [
    {
     "name": "stdout",
     "output_type": "stream",
     "text": [
      "<class 'pandas.core.frame.DataFrame'>\n",
      "RangeIndex: 18262 entries, 0 to 18261\n",
      "Data columns (total 6 columns):\n",
      " #   Column                         Non-Null Count  Dtype \n",
      "---  ------                         --------------  ----- \n",
      " 0   State                          18262 non-null  object\n",
      " 1   Ski Area                       18262 non-null  object\n",
      " 2   Reviewer Name                  18153 non-null  object\n",
      " 3   Review Date                    18262 non-null  object\n",
      " 4   Review Star Rating (out of 5)  18262 non-null  int64 \n",
      " 5   Review Text                    18250 non-null  object\n",
      "dtypes: int64(1), object(5)\n",
      "memory usage: 856.2+ KB\n"
     ]
    }
   ],
   "source": [
    "# Set the first column ('col1') as the index\n",
    "df = df.drop(df.columns[0], axis=1)  # Drop by index\n",
    "df.info()"
   ]
  },
  {
   "cell_type": "code",
   "execution_count": 93,
   "id": "ac9f4f29",
   "metadata": {},
   "outputs": [
    {
     "name": "stdout",
     "output_type": "stream",
     "text": [
      "<class 'pandas.core.frame.DataFrame'>\n",
      "RangeIndex: 18262 entries, 0 to 18261\n",
      "Data columns (total 6 columns):\n",
      " #   Column                         Non-Null Count  Dtype \n",
      "---  ------                         --------------  ----- \n",
      " 0   State                          18262 non-null  object\n",
      " 1   Ski Area                       18262 non-null  object\n",
      " 2   Reviewer Name                  18262 non-null  object\n",
      " 3   Review Date                    18262 non-null  object\n",
      " 4   Review Star Rating (out of 5)  18262 non-null  int64 \n",
      " 5   Review Text                    18250 non-null  object\n",
      "dtypes: int64(1), object(5)\n",
      "memory usage: 856.2+ KB\n"
     ]
    }
   ],
   "source": [
    "# impute the missing value in Reviewer Name with anonymous_user\n",
    "df['Reviewer Name'].fillna(\"anonymous_user\", inplace=True)\n",
    "df.info()"
   ]
  },
  {
   "cell_type": "code",
   "execution_count": 94,
   "id": "d8374f5b",
   "metadata": {},
   "outputs": [
    {
     "name": "stdout",
     "output_type": "stream",
     "text": [
      "<class 'pandas.core.frame.DataFrame'>\n",
      "Int64Index: 18250 entries, 0 to 18261\n",
      "Data columns (total 6 columns):\n",
      " #   Column                         Non-Null Count  Dtype \n",
      "---  ------                         --------------  ----- \n",
      " 0   State                          18250 non-null  object\n",
      " 1   Ski Area                       18250 non-null  object\n",
      " 2   Reviewer Name                  18250 non-null  object\n",
      " 3   Review Date                    18250 non-null  object\n",
      " 4   Review Star Rating (out of 5)  18250 non-null  int64 \n",
      " 5   Review Text                    18250 non-null  object\n",
      "dtypes: int64(1), object(5)\n",
      "memory usage: 998.0+ KB\n"
     ]
    }
   ],
   "source": [
    "# drop the rows that has no review text. \n",
    "df = df.dropna(subset=[\"Review Text\"])\n",
    "df.info()"
   ]
  },
  {
   "cell_type": "code",
   "execution_count": 95,
   "id": "15ae6e1c",
   "metadata": {},
   "outputs": [
    {
     "name": "stdout",
     "output_type": "stream",
     "text": [
      "<class 'pandas.core.frame.DataFrame'>\n",
      "Int64Index: 18250 entries, 0 to 18261\n",
      "Data columns (total 6 columns):\n",
      " #   Column                         Non-Null Count  Dtype \n",
      "---  ------                         --------------  ----- \n",
      " 0   State                          18250 non-null  object\n",
      " 1   Ski Area                       18250 non-null  object\n",
      " 2   Reviewer Name                  18250 non-null  object\n",
      " 3   Review Date                    18250 non-null  object\n",
      " 4   Review Star Rating (out of 5)  18250 non-null  int64 \n",
      " 5   Review Text                    18250 non-null  object\n",
      "dtypes: int64(1), object(5)\n",
      "memory usage: 998.0+ KB\n"
     ]
    }
   ],
   "source": [
    "# impute the missing rating with the rating mean of the dataset\n",
    "impute_mean = df[\"Review Star Rating (out of 5)\"].mean()\n",
    "df[\"Review Star Rating (out of 5)\"] = df[\"Review Star Rating (out of 5)\"].fillna(impute_mean).values\n",
    "df.info()"
   ]
  },
  {
   "cell_type": "code",
   "execution_count": 96,
   "id": "5bf81b52",
   "metadata": {},
   "outputs": [],
   "source": [
    "def convert_date(date_str):\n",
    "    \"\"\"\n",
    "    convert string to data to python data time object\n",
    "    arg:\n",
    "        date_str: data format in 1st October 2026\n",
    "    return:\n",
    "        converted python data time object\n",
    "    \"\"\"\n",
    "    # pattern match the data format e.g. 1st October 2026\n",
    "    pattern = r\"\\b(\\d{1,2})(st|nd|rd|th)?\\s+(January|February|March|April|May|June|July|August|September|October|November|December)\\s+\\d{4}\\b\"\n",
    "    match = re.search(pattern, date_str)\n",
    "    date_list = match.group().split(\" \")\n",
    "    # remove 'st','nd','ed','th' from day\n",
    "    output_str = f\"{date_list[0].replace('st', '').replace('nd', '').replace('rd', '').replace('th', '')} {date_list[1]} {date_list[2]}\"\n",
    "    return pd.to_datetime(output_str, format='%d %B %Y')\n",
    "\n",
    "# convert the data time string column\n",
    "df['Review Date datetime'] = df['Review Date'].apply(convert_date)\n",
    "df = df.drop(columns=[\"Review Date\"])"
   ]
  },
  {
   "cell_type": "code",
   "execution_count": 97,
   "id": "740ead65",
   "metadata": {
    "scrolled": true
   },
   "outputs": [
    {
     "name": "stdout",
     "output_type": "stream",
     "text": [
      "<class 'pandas.core.frame.DataFrame'>\n",
      "Int64Index: 18250 entries, 0 to 18261\n",
      "Data columns (total 6 columns):\n",
      " #   Column                         Non-Null Count  Dtype         \n",
      "---  ------                         --------------  -----         \n",
      " 0   State                          18250 non-null  object        \n",
      " 1   Ski Area                       18250 non-null  object        \n",
      " 2   Reviewer Name                  18250 non-null  object        \n",
      " 3   Review Star Rating (out of 5)  18250 non-null  int64         \n",
      " 4   Review Date datetime           18250 non-null  datetime64[ns]\n",
      " 5   Review Text Cleaned            18250 non-null  object        \n",
      "dtypes: datetime64[ns](1), int64(1), object(4)\n",
      "memory usage: 998.0+ KB\n"
     ]
    }
   ],
   "source": [
    "stop_words = set(stopwords.words(\"english\"))\n",
    "lemmatizer = WordNetLemmatizer()\n",
    "\n",
    "def clean_text(text):\n",
    "    # make lower cases\n",
    "    text = str(text).lower()\n",
    "    # Retain only alphanumeric characters and spaces\n",
    "    text = re.sub(r'[^a-zA-Z0-9\\s]', \"\", text)\n",
    "    # strip extra white space\n",
    "    text = re.sub(r\"\\s+\", \" \", text).strip()\n",
    "    # tokenize works into a list\n",
    "    tokens = word_tokenize(text)\n",
    "    # remove the stop words and lemmatize the remaining words\n",
    "    tokens = [lemmatizer.lemmatize(w) for w in tokens if w not in stop_words]\n",
    "    # return the clean text\n",
    "    return \" \".join(tokens)\n",
    "\n",
    "df[\"Review Text Cleaned\"] = df[\"Review Text\"].apply(clean_text)\n",
    "\n",
    "df = df.drop(columns=[\"Review Text\"])\n",
    "df = df.dropna(subset=[\"Review Text Cleaned\"])\n",
    "df.info()"
   ]
  },
  {
   "cell_type": "code",
   "execution_count": 98,
   "id": "0af1284f",
   "metadata": {},
   "outputs": [
    {
     "name": "stdout",
     "output_type": "stream",
     "text": [
      "<class 'pandas.core.frame.DataFrame'>\n",
      "Int64Index: 18250 entries, 0 to 18261\n",
      "Data columns (total 6 columns):\n",
      " #   Column                         Non-Null Count  Dtype         \n",
      "---  ------                         --------------  -----         \n",
      " 0   State                          18250 non-null  object        \n",
      " 1   Ski Area                       18250 non-null  object        \n",
      " 2   Reviewer Name                  18250 non-null  object        \n",
      " 3   Review Star Rating (out of 5)  18250 non-null  int64         \n",
      " 4   Review Date datetime           18250 non-null  datetime64[ns]\n",
      " 5   Review Text Cleaned            18250 non-null  object        \n",
      "dtypes: datetime64[ns](1), int64(1), object(4)\n",
      "memory usage: 998.0+ KB\n"
     ]
    }
   ],
   "source": [
    "df.info()"
   ]
  },
  {
   "cell_type": "code",
   "execution_count": 99,
   "id": "bfda0d5c",
   "metadata": {},
   "outputs": [
    {
     "name": "stdout",
     "output_type": "stream",
     "text": [
      "save dataset to /Users/hayleyluo/Desktop/Github/ML-kaggle-projects/kaggle-ski-area-review/datasets/bronze/on_the_snow_ski_area_reviews.csv\n"
     ]
    }
   ],
   "source": [
    "file_path = f'{current_directory}/datasets/bronze/on_the_snow_ski_area_reviews.csv'\n",
    "df.to_csv(file_path, header=True, index=True, sep=',', encoding='utf-8')\n",
    "print(f\"save dataset to {file_path}\")"
   ]
  },
  {
   "cell_type": "code",
   "execution_count": 100,
   "id": "9ed52d85",
   "metadata": {},
   "outputs": [
    {
     "name": "stdout",
     "output_type": "stream",
     "text": [
      "read dataset from /Users/hayleyluo/Desktop/Github/ML-kaggle-projects/kaggle-ski-area-review/datasets/bronze/on_the_snow_ski_area_reviews.csv\n",
      "<class 'pandas.core.frame.DataFrame'>\n",
      "Int64Index: 18250 entries, 0 to 18261\n",
      "Data columns (total 6 columns):\n",
      " #   Column                         Non-Null Count  Dtype \n",
      "---  ------                         --------------  ----- \n",
      " 0   State                          18250 non-null  object\n",
      " 1   Ski Area                       18250 non-null  object\n",
      " 2   Reviewer Name                  18250 non-null  object\n",
      " 3   Review Star Rating (out of 5)  18250 non-null  int64 \n",
      " 4   Review Date datetime           18250 non-null  object\n",
      " 5   Review Text Cleaned            18199 non-null  object\n",
      "dtypes: int64(1), object(5)\n",
      "memory usage: 998.0+ KB\n"
     ]
    }
   ],
   "source": [
    "df_read = pd.read_csv(file_path, header=0, index_col=0, sep=',', encoding='utf-8')\n",
    "print(f\"read dataset from {file_path}\")    \n",
    "\n",
    "df_read.info()"
   ]
  },
  {
   "cell_type": "code",
   "execution_count": null,
   "id": "cb87d4db",
   "metadata": {},
   "outputs": [],
   "source": []
  }
 ],
 "metadata": {
  "kernelspec": {
   "display_name": "skireview",
   "language": "python",
   "name": "skireview"
  },
  "language_info": {
   "codemirror_mode": {
    "name": "ipython",
    "version": 3
   },
   "file_extension": ".py",
   "mimetype": "text/x-python",
   "name": "python",
   "nbconvert_exporter": "python",
   "pygments_lexer": "ipython3",
   "version": "3.9.7"
  }
 },
 "nbformat": 4,
 "nbformat_minor": 5
}
